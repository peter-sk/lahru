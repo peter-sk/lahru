{
 "cells": [
  {
   "cell_type": "code",
   "execution_count": null,
   "metadata": {},
   "outputs": [],
   "source": [
    "from csv import reader\n",
    "import matplotlib.pyplot as plt\n",
    "class ns:\n",
    "    def __init__(self, d):\n",
    "        [setattr(self, n, d[n]) for n in d]\n",
    "    def __repr__(self):\n",
    "        return str(self.__dict__)\n",
    "def read(name):\n",
    "    with open(name,\"rt\") as f:\n",
    "        r = reader(f)\n",
    "        h = next(r)\n",
    "        d = {n:[] for n in h}\n",
    "        for e in r:\n",
    "            for i, v in enumerate(e):\n",
    "                d[h[i]].append(float(v))\n",
    "    return ns(d)"
   ]
  },
  {
   "cell_type": "code",
   "execution_count": null,
   "metadata": {},
   "outputs": [],
   "source": [
    "d = read(\"../plot.csv\")\n",
    "plt.plot(d.epoch,d.loss,label=\"train loss\")\n",
    "plt.plot(d.epoch,d.eval_loss,label=\"eval loss\")\n",
    "plt.legend(loc=\"best\")"
   ]
  },
  {
   "cell_type": "code",
   "execution_count": null,
   "metadata": {},
   "outputs": [],
   "source": [
    "plt.plot(d.epoch,d.learning_rate,label=\"learning rate\")"
   ]
  },
  {
   "cell_type": "code",
   "execution_count": null,
   "metadata": {},
   "outputs": [],
   "source": []
  }
 ],
 "metadata": {
  "kernelspec": {
   "display_name": "venv",
   "language": "python",
   "name": "python3"
  },
  "language_info": {
   "codemirror_mode": {
    "name": "ipython",
    "version": 3
   },
   "file_extension": ".py",
   "mimetype": "text/x-python",
   "name": "python",
   "nbconvert_exporter": "python",
   "pygments_lexer": "ipython3",
   "version": "3.9.2"
  },
  "orig_nbformat": 4,
  "vscode": {
   "interpreter": {
    "hash": "81805837014baa992cf8f8424bbd2a1a1700687aa88cd989b9b6045e0cf4c596"
   }
  }
 },
 "nbformat": 4,
 "nbformat_minor": 2
}
