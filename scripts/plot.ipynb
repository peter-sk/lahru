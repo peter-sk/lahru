{
 "cells": [
  {
   "cell_type": "code",
   "execution_count": 47,
   "metadata": {},
   "outputs": [],
   "source": [
    "from csv import reader\n",
    "import matplotlib.pyplot as plt\n",
    "class ns:\n",
    "    def __init__(self, d):\n",
    "        [setattr(self, n, d[n]) for n in d]\n",
    "    def __repr__(self):\n",
    "        return self.__dict__\n",
    "def read(name):\n",
    "    with open(name,\"rt\") as f:\n",
    "        r = reader(f)\n",
    "        h = next(r)\n",
    "        d = {n:[] for n in h}\n",
    "        for e in r:\n",
    "            for i, v in enumerate(e):\n",
    "                d[h[i]].append(v)\n",
    "    return ns(d)"
   ]
  },
  {
   "cell_type": "code",
   "execution_count": 50,
   "metadata": {},
   "outputs": [
    {
     "ename": "SyntaxError",
     "evalue": "positional argument follows keyword argument (2056587216.py, line 2)",
     "output_type": "error",
     "traceback": [
      "\u001b[0;36m  Cell \u001b[0;32mIn[50], line 2\u001b[0;36m\u001b[0m\n\u001b[0;31m    plt.scatter(x=range(len(d.loss)),d.loss,label=\"training loss\")\u001b[0m\n\u001b[0m                                                                 ^\u001b[0m\n\u001b[0;31mSyntaxError\u001b[0m\u001b[0;31m:\u001b[0m positional argument follows keyword argument\n"
     ]
    }
   ],
   "source": [
    "d = read(\"../plot.csv\")\n",
    "plt.scatter(x=range(len(d.loss)),y=d.loss)"
   ]
  },
  {
   "cell_type": "code",
   "execution_count": null,
   "metadata": {},
   "outputs": [],
   "source": []
  }
 ],
 "metadata": {
  "kernelspec": {
   "display_name": "venv",
   "language": "python",
   "name": "python3"
  },
  "language_info": {
   "codemirror_mode": {
    "name": "ipython",
    "version": 3
   },
   "file_extension": ".py",
   "mimetype": "text/x-python",
   "name": "python",
   "nbconvert_exporter": "python",
   "pygments_lexer": "ipython3",
   "version": "3.9.2"
  },
  "orig_nbformat": 4,
  "vscode": {
   "interpreter": {
    "hash": "81805837014baa992cf8f8424bbd2a1a1700687aa88cd989b9b6045e0cf4c596"
   }
  }
 },
 "nbformat": 4,
 "nbformat_minor": 2
}
